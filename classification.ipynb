{
 "cells": [
  {
   "cell_type": "code",
   "execution_count": 1,
   "metadata": {},
   "outputs": [],
   "source": [
    "import numpy as np\n",
    "import pandas as pd"
   ]
  },
  {
   "cell_type": "code",
   "execution_count": 2,
   "metadata": {},
   "outputs": [],
   "source": [
    "df = pd.read_csv(\"data/winequality.csv\")"
   ]
  },
  {
   "cell_type": "code",
   "execution_count": 3,
   "metadata": {},
   "outputs": [
    {
     "data": {
      "text/html": [
       "<div>\n",
       "<style scoped>\n",
       "    .dataframe tbody tr th:only-of-type {\n",
       "        vertical-align: middle;\n",
       "    }\n",
       "\n",
       "    .dataframe tbody tr th {\n",
       "        vertical-align: top;\n",
       "    }\n",
       "\n",
       "    .dataframe thead th {\n",
       "        text-align: right;\n",
       "    }\n",
       "</style>\n",
       "<table border=\"1\" class=\"dataframe\">\n",
       "  <thead>\n",
       "    <tr style=\"text-align: right;\">\n",
       "      <th></th>\n",
       "      <th>type</th>\n",
       "      <th>fixed acidity</th>\n",
       "      <th>volatile acidity</th>\n",
       "      <th>citric acid</th>\n",
       "      <th>residual sugar</th>\n",
       "      <th>chlorides</th>\n",
       "      <th>free sulfur dioxide</th>\n",
       "      <th>total sulfur dioxide</th>\n",
       "      <th>density</th>\n",
       "      <th>pH</th>\n",
       "      <th>sulphates</th>\n",
       "      <th>alcohol</th>\n",
       "      <th>quality</th>\n",
       "    </tr>\n",
       "  </thead>\n",
       "  <tbody>\n",
       "    <tr>\n",
       "      <th>0</th>\n",
       "      <td>white</td>\n",
       "      <td>7.0</td>\n",
       "      <td>0.27</td>\n",
       "      <td>0.36</td>\n",
       "      <td>20.7</td>\n",
       "      <td>0.045</td>\n",
       "      <td>45.0</td>\n",
       "      <td>170.0</td>\n",
       "      <td>1.0010</td>\n",
       "      <td>3.00</td>\n",
       "      <td>0.45</td>\n",
       "      <td>8.8</td>\n",
       "      <td>6</td>\n",
       "    </tr>\n",
       "    <tr>\n",
       "      <th>1</th>\n",
       "      <td>white</td>\n",
       "      <td>6.3</td>\n",
       "      <td>0.30</td>\n",
       "      <td>0.34</td>\n",
       "      <td>1.6</td>\n",
       "      <td>0.049</td>\n",
       "      <td>14.0</td>\n",
       "      <td>132.0</td>\n",
       "      <td>0.9940</td>\n",
       "      <td>3.30</td>\n",
       "      <td>0.49</td>\n",
       "      <td>9.5</td>\n",
       "      <td>6</td>\n",
       "    </tr>\n",
       "    <tr>\n",
       "      <th>2</th>\n",
       "      <td>white</td>\n",
       "      <td>8.1</td>\n",
       "      <td>0.28</td>\n",
       "      <td>0.40</td>\n",
       "      <td>6.9</td>\n",
       "      <td>0.050</td>\n",
       "      <td>30.0</td>\n",
       "      <td>97.0</td>\n",
       "      <td>0.9951</td>\n",
       "      <td>3.26</td>\n",
       "      <td>0.44</td>\n",
       "      <td>10.1</td>\n",
       "      <td>6</td>\n",
       "    </tr>\n",
       "    <tr>\n",
       "      <th>3</th>\n",
       "      <td>white</td>\n",
       "      <td>7.2</td>\n",
       "      <td>0.23</td>\n",
       "      <td>0.32</td>\n",
       "      <td>8.5</td>\n",
       "      <td>0.058</td>\n",
       "      <td>47.0</td>\n",
       "      <td>186.0</td>\n",
       "      <td>0.9956</td>\n",
       "      <td>3.19</td>\n",
       "      <td>0.40</td>\n",
       "      <td>9.9</td>\n",
       "      <td>6</td>\n",
       "    </tr>\n",
       "    <tr>\n",
       "      <th>4</th>\n",
       "      <td>white</td>\n",
       "      <td>7.2</td>\n",
       "      <td>0.23</td>\n",
       "      <td>0.32</td>\n",
       "      <td>8.5</td>\n",
       "      <td>0.058</td>\n",
       "      <td>47.0</td>\n",
       "      <td>186.0</td>\n",
       "      <td>0.9956</td>\n",
       "      <td>3.19</td>\n",
       "      <td>0.40</td>\n",
       "      <td>9.9</td>\n",
       "      <td>6</td>\n",
       "    </tr>\n",
       "  </tbody>\n",
       "</table>\n",
       "</div>"
      ],
      "text/plain": [
       "    type  fixed acidity  volatile acidity  citric acid  residual sugar  \\\n",
       "0  white            7.0              0.27         0.36            20.7   \n",
       "1  white            6.3              0.30         0.34             1.6   \n",
       "2  white            8.1              0.28         0.40             6.9   \n",
       "3  white            7.2              0.23         0.32             8.5   \n",
       "4  white            7.2              0.23         0.32             8.5   \n",
       "\n",
       "   chlorides  free sulfur dioxide  total sulfur dioxide  density    pH  \\\n",
       "0      0.045                 45.0                 170.0   1.0010  3.00   \n",
       "1      0.049                 14.0                 132.0   0.9940  3.30   \n",
       "2      0.050                 30.0                  97.0   0.9951  3.26   \n",
       "3      0.058                 47.0                 186.0   0.9956  3.19   \n",
       "4      0.058                 47.0                 186.0   0.9956  3.19   \n",
       "\n",
       "   sulphates  alcohol  quality  \n",
       "0       0.45      8.8        6  \n",
       "1       0.49      9.5        6  \n",
       "2       0.44     10.1        6  \n",
       "3       0.40      9.9        6  \n",
       "4       0.40      9.9        6  "
      ]
     },
     "execution_count": 3,
     "metadata": {},
     "output_type": "execute_result"
    }
   ],
   "source": [
    "df.head()"
   ]
  },
  {
   "cell_type": "code",
   "execution_count": 4,
   "metadata": {},
   "outputs": [
    {
     "data": {
      "text/plain": [
       "(6497, 13)"
      ]
     },
     "execution_count": 4,
     "metadata": {},
     "output_type": "execute_result"
    }
   ],
   "source": [
    "df.shape"
   ]
  },
  {
   "cell_type": "markdown",
   "metadata": {},
   "source": [
    "### check for missing values and delete missing observations"
   ]
  },
  {
   "cell_type": "markdown",
   "metadata": {},
   "source": []
  },
  {
   "cell_type": "code",
   "execution_count": 5,
   "metadata": {},
   "outputs": [
    {
     "data": {
      "text/plain": [
       "type                     0\n",
       "fixed acidity           10\n",
       "volatile acidity         8\n",
       "citric acid              3\n",
       "residual sugar           2\n",
       "chlorides                2\n",
       "free sulfur dioxide      0\n",
       "total sulfur dioxide     0\n",
       "density                  0\n",
       "pH                       9\n",
       "sulphates                4\n",
       "alcohol                  0\n",
       "quality                  0\n",
       "dtype: int64"
      ]
     },
     "execution_count": 5,
     "metadata": {},
     "output_type": "execute_result"
    }
   ],
   "source": [
    "df.isnull().sum()"
   ]
  },
  {
   "cell_type": "code",
   "execution_count": 6,
   "metadata": {},
   "outputs": [
    {
     "data": {
      "text/plain": [
       "type                    0\n",
       "fixed acidity           0\n",
       "volatile acidity        0\n",
       "citric acid             0\n",
       "residual sugar          0\n",
       "chlorides               0\n",
       "free sulfur dioxide     0\n",
       "total sulfur dioxide    0\n",
       "density                 0\n",
       "pH                      0\n",
       "sulphates               0\n",
       "alcohol                 0\n",
       "quality                 0\n",
       "dtype: int64"
      ]
     },
     "execution_count": 6,
     "metadata": {},
     "output_type": "execute_result"
    }
   ],
   "source": [
    "df = df.dropna()\n",
    "df.isnull().sum()"
   ]
  },
  {
   "cell_type": "code",
   "execution_count": 7,
   "metadata": {},
   "outputs": [
    {
     "data": {
      "text/plain": [
       "(6463, 13)"
      ]
     },
     "execution_count": 7,
     "metadata": {},
     "output_type": "execute_result"
    }
   ],
   "source": [
    "df.shape"
   ]
  },
  {
   "cell_type": "code",
   "execution_count": 8,
   "metadata": {},
   "outputs": [
    {
     "data": {
      "text/plain": [
       "white    4870\n",
       "red      1593\n",
       "Name: type, dtype: int64"
      ]
     },
     "execution_count": 8,
     "metadata": {},
     "output_type": "execute_result"
    }
   ],
   "source": [
    "df.type.value_counts()"
   ]
  },
  {
   "cell_type": "code",
   "execution_count": 9,
   "metadata": {},
   "outputs": [],
   "source": [
    "# code the values of wine, white:1 red:0\n",
    "df['is_white_wine'] = [1 if typ == 'white' else 0 for typ in df['type']]"
   ]
  },
  {
   "cell_type": "code",
   "execution_count": 10,
   "metadata": {},
   "outputs": [
    {
     "data": {
      "text/html": [
       "<div>\n",
       "<style scoped>\n",
       "    .dataframe tbody tr th:only-of-type {\n",
       "        vertical-align: middle;\n",
       "    }\n",
       "\n",
       "    .dataframe tbody tr th {\n",
       "        vertical-align: top;\n",
       "    }\n",
       "\n",
       "    .dataframe thead th {\n",
       "        text-align: right;\n",
       "    }\n",
       "</style>\n",
       "<table border=\"1\" class=\"dataframe\">\n",
       "  <thead>\n",
       "    <tr style=\"text-align: right;\">\n",
       "      <th></th>\n",
       "      <th>type</th>\n",
       "      <th>fixed acidity</th>\n",
       "      <th>volatile acidity</th>\n",
       "      <th>citric acid</th>\n",
       "      <th>residual sugar</th>\n",
       "      <th>chlorides</th>\n",
       "      <th>free sulfur dioxide</th>\n",
       "      <th>total sulfur dioxide</th>\n",
       "      <th>density</th>\n",
       "      <th>pH</th>\n",
       "      <th>sulphates</th>\n",
       "      <th>alcohol</th>\n",
       "      <th>quality</th>\n",
       "      <th>is_white_wine</th>\n",
       "    </tr>\n",
       "  </thead>\n",
       "  <tbody>\n",
       "    <tr>\n",
       "      <th>924</th>\n",
       "      <td>white</td>\n",
       "      <td>7.9</td>\n",
       "      <td>0.28</td>\n",
       "      <td>0.41</td>\n",
       "      <td>2.0</td>\n",
       "      <td>0.044</td>\n",
       "      <td>50.0</td>\n",
       "      <td>152.0</td>\n",
       "      <td>0.99340</td>\n",
       "      <td>3.45</td>\n",
       "      <td>0.49</td>\n",
       "      <td>10.7</td>\n",
       "      <td>8</td>\n",
       "      <td>1</td>\n",
       "    </tr>\n",
       "    <tr>\n",
       "      <th>4242</th>\n",
       "      <td>white</td>\n",
       "      <td>5.9</td>\n",
       "      <td>0.22</td>\n",
       "      <td>0.29</td>\n",
       "      <td>4.2</td>\n",
       "      <td>0.037</td>\n",
       "      <td>69.0</td>\n",
       "      <td>144.0</td>\n",
       "      <td>0.99214</td>\n",
       "      <td>3.13</td>\n",
       "      <td>0.74</td>\n",
       "      <td>10.8</td>\n",
       "      <td>7</td>\n",
       "      <td>1</td>\n",
       "    </tr>\n",
       "    <tr>\n",
       "      <th>6159</th>\n",
       "      <td>red</td>\n",
       "      <td>6.3</td>\n",
       "      <td>1.02</td>\n",
       "      <td>0.00</td>\n",
       "      <td>2.0</td>\n",
       "      <td>0.083</td>\n",
       "      <td>17.0</td>\n",
       "      <td>24.0</td>\n",
       "      <td>0.99437</td>\n",
       "      <td>3.59</td>\n",
       "      <td>0.55</td>\n",
       "      <td>11.2</td>\n",
       "      <td>4</td>\n",
       "      <td>0</td>\n",
       "    </tr>\n",
       "    <tr>\n",
       "      <th>3543</th>\n",
       "      <td>white</td>\n",
       "      <td>6.0</td>\n",
       "      <td>0.33</td>\n",
       "      <td>0.20</td>\n",
       "      <td>1.8</td>\n",
       "      <td>0.031</td>\n",
       "      <td>49.0</td>\n",
       "      <td>159.0</td>\n",
       "      <td>0.99190</td>\n",
       "      <td>3.41</td>\n",
       "      <td>0.53</td>\n",
       "      <td>11.0</td>\n",
       "      <td>6</td>\n",
       "      <td>1</td>\n",
       "    </tr>\n",
       "    <tr>\n",
       "      <th>4024</th>\n",
       "      <td>white</td>\n",
       "      <td>6.0</td>\n",
       "      <td>0.28</td>\n",
       "      <td>0.27</td>\n",
       "      <td>4.1</td>\n",
       "      <td>0.046</td>\n",
       "      <td>50.0</td>\n",
       "      <td>147.0</td>\n",
       "      <td>0.99126</td>\n",
       "      <td>3.27</td>\n",
       "      <td>0.56</td>\n",
       "      <td>11.6</td>\n",
       "      <td>6</td>\n",
       "      <td>1</td>\n",
       "    </tr>\n",
       "  </tbody>\n",
       "</table>\n",
       "</div>"
      ],
      "text/plain": [
       "       type  fixed acidity  volatile acidity  citric acid  residual sugar  \\\n",
       "924   white            7.9              0.28         0.41             2.0   \n",
       "4242  white            5.9              0.22         0.29             4.2   \n",
       "6159    red            6.3              1.02         0.00             2.0   \n",
       "3543  white            6.0              0.33         0.20             1.8   \n",
       "4024  white            6.0              0.28         0.27             4.1   \n",
       "\n",
       "      chlorides  free sulfur dioxide  total sulfur dioxide  density    pH  \\\n",
       "924       0.044                 50.0                 152.0  0.99340  3.45   \n",
       "4242      0.037                 69.0                 144.0  0.99214  3.13   \n",
       "6159      0.083                 17.0                  24.0  0.99437  3.59   \n",
       "3543      0.031                 49.0                 159.0  0.99190  3.41   \n",
       "4024      0.046                 50.0                 147.0  0.99126  3.27   \n",
       "\n",
       "      sulphates  alcohol  quality  is_white_wine  \n",
       "924        0.49     10.7        8              1  \n",
       "4242       0.74     10.8        7              1  \n",
       "6159       0.55     11.2        4              0  \n",
       "3543       0.53     11.0        6              1  \n",
       "4024       0.56     11.6        6              1  "
      ]
     },
     "execution_count": 10,
     "metadata": {},
     "output_type": "execute_result"
    }
   ],
   "source": [
    "df.sample(5)"
   ]
  },
  {
   "cell_type": "code",
   "execution_count": 11,
   "metadata": {},
   "outputs": [],
   "source": [
    "df.drop('type', axis=1, inplace=True)"
   ]
  },
  {
   "cell_type": "code",
   "execution_count": 12,
   "metadata": {},
   "outputs": [
    {
     "data": {
      "text/plain": [
       "6    2820\n",
       "5    2128\n",
       "7    1074\n",
       "4     214\n",
       "8     192\n",
       "3      30\n",
       "9       5\n",
       "Name: quality, dtype: int64"
      ]
     },
     "execution_count": 12,
     "metadata": {},
     "output_type": "execute_result"
    }
   ],
   "source": [
    "df.quality.value_counts()"
   ]
  },
  {
   "cell_type": "code",
   "execution_count": 14,
   "metadata": {},
   "outputs": [],
   "source": [
    "# encoding quality feature by considering quality of 6 = good and less than 6 as bad\n",
    "df['is_good_wine'] = [1 if quality >= 6 else 0 for quality in df['quality']]\n",
    "df.drop('quality', axis=1, inplace=True)"
   ]
  },
  {
   "cell_type": "markdown",
   "metadata": {},
   "source": [
    "### Splitting training and test sets"
   ]
  },
  {
   "cell_type": "code",
   "execution_count": 15,
   "metadata": {},
   "outputs": [],
   "source": [
    "from sklearn.model_selection import train_test_split\n",
    "\n",
    "X = df.drop('is_good_wine', axis=1)\n",
    "y = df['is_good_wine']\n",
    "\n",
    "X_train, X_test, y_train, y_test = train_test_split(X, y, test_size=0.2, random_state=42)"
   ]
  },
  {
   "cell_type": "code",
   "execution_count": 16,
   "metadata": {},
   "outputs": [
    {
     "name": "stdout",
     "output_type": "stream",
     "text": [
      "(5170, 12)\n",
      "(1293, 12)\n",
      "(5170,)\n",
      "(1293,)\n"
     ]
    }
   ],
   "source": [
    "print(X_train.shape)\n",
    "print(X_test.shape)\n",
    "print(y_train.shape)\n",
    "print(y_test.shape)"
   ]
  },
  {
   "cell_type": "markdown",
   "metadata": {},
   "source": [
    "### scaling the data"
   ]
  },
  {
   "cell_type": "code",
   "execution_count": 17,
   "metadata": {},
   "outputs": [
    {
     "data": {
      "text/html": [
       "<div>\n",
       "<style scoped>\n",
       "    .dataframe tbody tr th:only-of-type {\n",
       "        vertical-align: middle;\n",
       "    }\n",
       "\n",
       "    .dataframe tbody tr th {\n",
       "        vertical-align: top;\n",
       "    }\n",
       "\n",
       "    .dataframe thead th {\n",
       "        text-align: right;\n",
       "    }\n",
       "</style>\n",
       "<table border=\"1\" class=\"dataframe\">\n",
       "  <thead>\n",
       "    <tr style=\"text-align: right;\">\n",
       "      <th></th>\n",
       "      <th>fixed acidity</th>\n",
       "      <th>volatile acidity</th>\n",
       "      <th>citric acid</th>\n",
       "      <th>residual sugar</th>\n",
       "      <th>chlorides</th>\n",
       "      <th>free sulfur dioxide</th>\n",
       "      <th>total sulfur dioxide</th>\n",
       "      <th>density</th>\n",
       "      <th>pH</th>\n",
       "      <th>sulphates</th>\n",
       "      <th>alcohol</th>\n",
       "      <th>is_white_wine</th>\n",
       "    </tr>\n",
       "  </thead>\n",
       "  <tbody>\n",
       "    <tr>\n",
       "      <th>459</th>\n",
       "      <td>6.1</td>\n",
       "      <td>0.43</td>\n",
       "      <td>0.35</td>\n",
       "      <td>9.1</td>\n",
       "      <td>0.059</td>\n",
       "      <td>83.0</td>\n",
       "      <td>249.0</td>\n",
       "      <td>0.99710</td>\n",
       "      <td>3.37</td>\n",
       "      <td>0.50</td>\n",
       "      <td>8.500000</td>\n",
       "      <td>1</td>\n",
       "    </tr>\n",
       "    <tr>\n",
       "      <th>1460</th>\n",
       "      <td>8.5</td>\n",
       "      <td>0.17</td>\n",
       "      <td>0.74</td>\n",
       "      <td>3.6</td>\n",
       "      <td>0.050</td>\n",
       "      <td>29.0</td>\n",
       "      <td>128.0</td>\n",
       "      <td>0.99280</td>\n",
       "      <td>3.28</td>\n",
       "      <td>0.40</td>\n",
       "      <td>12.400000</td>\n",
       "      <td>1</td>\n",
       "    </tr>\n",
       "    <tr>\n",
       "      <th>4403</th>\n",
       "      <td>5.2</td>\n",
       "      <td>0.22</td>\n",
       "      <td>0.46</td>\n",
       "      <td>6.2</td>\n",
       "      <td>0.066</td>\n",
       "      <td>41.0</td>\n",
       "      <td>187.0</td>\n",
       "      <td>0.99362</td>\n",
       "      <td>3.19</td>\n",
       "      <td>0.42</td>\n",
       "      <td>9.733333</td>\n",
       "      <td>1</td>\n",
       "    </tr>\n",
       "    <tr>\n",
       "      <th>3828</th>\n",
       "      <td>6.3</td>\n",
       "      <td>0.40</td>\n",
       "      <td>0.24</td>\n",
       "      <td>5.1</td>\n",
       "      <td>0.036</td>\n",
       "      <td>43.0</td>\n",
       "      <td>131.0</td>\n",
       "      <td>0.99186</td>\n",
       "      <td>3.24</td>\n",
       "      <td>0.44</td>\n",
       "      <td>11.300000</td>\n",
       "      <td>1</td>\n",
       "    </tr>\n",
       "    <tr>\n",
       "      <th>4317</th>\n",
       "      <td>6.7</td>\n",
       "      <td>0.34</td>\n",
       "      <td>0.26</td>\n",
       "      <td>1.9</td>\n",
       "      <td>0.038</td>\n",
       "      <td>58.0</td>\n",
       "      <td>138.0</td>\n",
       "      <td>0.98930</td>\n",
       "      <td>3.00</td>\n",
       "      <td>0.47</td>\n",
       "      <td>12.200000</td>\n",
       "      <td>1</td>\n",
       "    </tr>\n",
       "  </tbody>\n",
       "</table>\n",
       "</div>"
      ],
      "text/plain": [
       "      fixed acidity  volatile acidity  citric acid  residual sugar  chlorides  \\\n",
       "459             6.1              0.43         0.35             9.1      0.059   \n",
       "1460            8.5              0.17         0.74             3.6      0.050   \n",
       "4403            5.2              0.22         0.46             6.2      0.066   \n",
       "3828            6.3              0.40         0.24             5.1      0.036   \n",
       "4317            6.7              0.34         0.26             1.9      0.038   \n",
       "\n",
       "      free sulfur dioxide  total sulfur dioxide  density    pH  sulphates  \\\n",
       "459                  83.0                 249.0  0.99710  3.37       0.50   \n",
       "1460                 29.0                 128.0  0.99280  3.28       0.40   \n",
       "4403                 41.0                 187.0  0.99362  3.19       0.42   \n",
       "3828                 43.0                 131.0  0.99186  3.24       0.44   \n",
       "4317                 58.0                 138.0  0.98930  3.00       0.47   \n",
       "\n",
       "        alcohol  is_white_wine  \n",
       "459    8.500000              1  \n",
       "1460  12.400000              1  \n",
       "4403   9.733333              1  \n",
       "3828  11.300000              1  \n",
       "4317  12.200000              1  "
      ]
     },
     "execution_count": 17,
     "metadata": {},
     "output_type": "execute_result"
    }
   ],
   "source": [
    "X_train.head()"
   ]
  },
  {
   "cell_type": "code",
   "execution_count": 18,
   "metadata": {},
   "outputs": [],
   "source": [
    "from sklearn.preprocessing import StandardScaler\n",
    "\n",
    "scaler = StandardScaler()\n",
    "X_train_scaled = scaler.fit_transform(X_train)\n",
    "X_test_scaled = scaler.fit_transform(X_test)"
   ]
  },
  {
   "cell_type": "code",
   "execution_count": 20,
   "metadata": {},
   "outputs": [
    {
     "data": {
      "text/plain": [
       "array([[-0.86265684,  0.56588915,  0.22079121,  0.75048207,  0.07674805,\n",
       "         2.9415276 ,  2.35882933,  0.788386  ,  0.94784355, -0.20357893,\n",
       "        -1.66472797,  0.57094748],\n",
       "       [ 0.99186667, -1.02945526,  2.92098728, -0.3929423 , -0.17512717,\n",
       "        -0.08344183,  0.21383119, -0.64578381,  0.38700578, -0.87653487,\n",
       "         1.63149383,  0.57094748],\n",
       "       [-1.55810316, -0.72265826,  0.98238498,  0.14758559,  0.27265101,\n",
       "         0.5887736 ,  1.25973937, -0.37229096, -0.17383198, -0.74194369,\n",
       "        -0.62233304,  0.57094748]])"
      ]
     },
     "execution_count": 20,
     "metadata": {},
     "output_type": "execute_result"
    }
   ],
   "source": [
    "X_train_scaled[:3]"
   ]
  },
  {
   "cell_type": "markdown",
   "metadata": {},
   "source": [
    "### Model training"
   ]
  },
  {
   "cell_type": "markdown",
   "metadata": {},
   "source": [
    "There are three things to consider:\n",
    "\n",
    "1. Layer structure\n",
    "2. Loss function (binary cross entropy = for binary classes, categorical cross entropy = for multiple classes)\n",
    "3. Class balance"
   ]
  },
  {
   "cell_type": "code",
   "execution_count": 21,
   "metadata": {},
   "outputs": [],
   "source": [
    "import tensorflow as tf\n",
    "tf.random.set_seed(42)\n",
    "\n",
    "model = tf.keras.Sequential([\n",
    "    tf.keras.layers.Dense(128, activation='relu'),\n",
    "    tf.keras.layers.Dense(256, activation='relu'),\n",
    "    tf.keras.layers.Dense(256, activation='relu'),\n",
    "    tf.keras.layers.Dense(1, activation='sigmoid')\n",
    "])"
   ]
  },
  {
   "cell_type": "code",
   "execution_count": 23,
   "metadata": {},
   "outputs": [],
   "source": [
    "model.compile(\n",
    "    loss = tf.keras.losses.binary_crossentropy,\n",
    "    optimizer = tf.keras.optimizers.Adam(learning_rate=0.03),\n",
    "    metrics = [\n",
    "        tf.keras.metrics.BinaryAccuracy(name='accuracy'),\n",
    "        tf.keras.metrics.Precision(name='precision'),\n",
    "        tf.keras.metrics.Recall(name='recall')\n",
    "    ]\n",
    ")"
   ]
  },
  {
   "cell_type": "code",
   "execution_count": 24,
   "metadata": {},
   "outputs": [
    {
     "name": "stdout",
     "output_type": "stream",
     "text": [
      "Epoch 1/100\n",
      "162/162 [==============================] - 1s 2ms/step - loss: 0.6181 - accuracy: 0.7137 - precision: 0.7462 - recall: 0.8317\n",
      "Epoch 2/100\n",
      "162/162 [==============================] - 0s 2ms/step - loss: 0.5391 - accuracy: 0.7350 - precision: 0.7569 - recall: 0.8579\n",
      "Epoch 3/100\n",
      "162/162 [==============================] - 0s 2ms/step - loss: 0.5264 - accuracy: 0.7466 - precision: 0.7691 - recall: 0.8582\n",
      "Epoch 4/100\n",
      "162/162 [==============================] - 0s 2ms/step - loss: 0.5155 - accuracy: 0.7528 - precision: 0.7871 - recall: 0.8366\n",
      "Epoch 5/100\n",
      "162/162 [==============================] - 0s 2ms/step - loss: 0.5231 - accuracy: 0.7503 - precision: 0.7794 - recall: 0.8457\n",
      "Epoch 6/100\n",
      "162/162 [==============================] - 0s 2ms/step - loss: 0.5199 - accuracy: 0.7559 - precision: 0.7881 - recall: 0.8415\n",
      "Epoch 7/100\n",
      "162/162 [==============================] - 0s 2ms/step - loss: 0.5086 - accuracy: 0.7567 - precision: 0.8067 - recall: 0.8107\n",
      "Epoch 8/100\n",
      "162/162 [==============================] - 0s 2ms/step - loss: 0.5049 - accuracy: 0.7600 - precision: 0.8055 - recall: 0.8195\n",
      "Epoch 9/100\n",
      "162/162 [==============================] - 0s 2ms/step - loss: 0.5178 - accuracy: 0.7530 - precision: 0.7962 - recall: 0.8207\n",
      "Epoch 10/100\n",
      "162/162 [==============================] - 0s 2ms/step - loss: 0.5061 - accuracy: 0.7600 - precision: 0.8041 - recall: 0.8220\n",
      "Epoch 11/100\n",
      "162/162 [==============================] - 0s 2ms/step - loss: 0.5046 - accuracy: 0.7515 - precision: 0.8007 - recall: 0.8098\n",
      "Epoch 12/100\n",
      "162/162 [==============================] - 0s 2ms/step - loss: 0.5025 - accuracy: 0.7615 - precision: 0.8076 - recall: 0.8192\n",
      "Epoch 13/100\n",
      "162/162 [==============================] - 0s 2ms/step - loss: 0.5259 - accuracy: 0.7429 - precision: 0.8116 - recall: 0.7747\n",
      "Epoch 14/100\n",
      "162/162 [==============================] - 0s 2ms/step - loss: 0.5351 - accuracy: 0.7460 - precision: 0.8135 - recall: 0.7780\n",
      "Epoch 15/100\n",
      "162/162 [==============================] - 0s 2ms/step - loss: 0.4996 - accuracy: 0.7627 - precision: 0.8241 - recall: 0.7957\n",
      "Epoch 16/100\n",
      "162/162 [==============================] - 0s 2ms/step - loss: 0.5098 - accuracy: 0.7576 - precision: 0.8118 - recall: 0.8046\n",
      "Epoch 17/100\n",
      "162/162 [==============================] - 0s 2ms/step - loss: 0.4991 - accuracy: 0.7551 - precision: 0.8066 - recall: 0.8076\n",
      "Epoch 18/100\n",
      "162/162 [==============================] - 0s 2ms/step - loss: 0.4971 - accuracy: 0.7621 - precision: 0.8097 - recall: 0.8171\n",
      "Epoch 19/100\n",
      "162/162 [==============================] - 0s 2ms/step - loss: 0.4934 - accuracy: 0.7631 - precision: 0.8238 - recall: 0.7970\n",
      "Epoch 20/100\n",
      "162/162 [==============================] - 0s 2ms/step - loss: 0.4864 - accuracy: 0.7681 - precision: 0.8251 - recall: 0.8052\n",
      "Epoch 21/100\n",
      "162/162 [==============================] - 0s 2ms/step - loss: 0.4897 - accuracy: 0.7671 - precision: 0.8218 - recall: 0.8082\n",
      "Epoch 22/100\n",
      "162/162 [==============================] - 0s 2ms/step - loss: 0.5223 - accuracy: 0.7613 - precision: 0.8127 - recall: 0.8107\n",
      "Epoch 23/100\n",
      "162/162 [==============================] - 0s 2ms/step - loss: 0.4926 - accuracy: 0.7687 - precision: 0.8094 - recall: 0.8311\n",
      "Epoch 24/100\n",
      "162/162 [==============================] - 0s 2ms/step - loss: 0.4816 - accuracy: 0.7756 - precision: 0.8064 - recall: 0.8506\n",
      "Epoch 25/100\n",
      "162/162 [==============================] - 0s 2ms/step - loss: 0.4799 - accuracy: 0.7778 - precision: 0.8269 - recall: 0.8216\n",
      "Epoch 26/100\n",
      "162/162 [==============================] - 0s 2ms/step - loss: 0.4818 - accuracy: 0.7747 - precision: 0.8219 - recall: 0.8232\n",
      "Epoch 27/100\n",
      "162/162 [==============================] - 0s 2ms/step - loss: 0.4698 - accuracy: 0.7809 - precision: 0.8300 - recall: 0.8232\n",
      "Epoch 28/100\n",
      "162/162 [==============================] - 0s 2ms/step - loss: 0.4738 - accuracy: 0.7816 - precision: 0.8310 - recall: 0.8232\n",
      "Epoch 29/100\n",
      "162/162 [==============================] - 0s 2ms/step - loss: 0.4950 - accuracy: 0.7774 - precision: 0.8264 - recall: 0.8216\n",
      "Epoch 30/100\n",
      "162/162 [==============================] - 0s 2ms/step - loss: 0.4942 - accuracy: 0.7721 - precision: 0.8113 - recall: 0.8351\n",
      "Epoch 31/100\n",
      "162/162 [==============================] - 0s 2ms/step - loss: 0.6006 - accuracy: 0.7286 - precision: 0.7676 - recall: 0.8207\n",
      "Epoch 32/100\n",
      "162/162 [==============================] - 0s 2ms/step - loss: 0.5352 - accuracy: 0.7275 - precision: 0.7443 - recall: 0.8689\n",
      "Epoch 33/100\n",
      "162/162 [==============================] - 0s 2ms/step - loss: 0.5141 - accuracy: 0.7412 - precision: 0.7738 - recall: 0.8366\n",
      "Epoch 34/100\n",
      "162/162 [==============================] - 0s 2ms/step - loss: 0.5182 - accuracy: 0.7377 - precision: 0.7768 - recall: 0.8232\n",
      "Epoch 35/100\n",
      "162/162 [==============================] - 0s 2ms/step - loss: 0.4967 - accuracy: 0.7497 - precision: 0.8101 - recall: 0.7909\n",
      "Epoch 36/100\n",
      "162/162 [==============================] - 0s 2ms/step - loss: 0.4903 - accuracy: 0.7559 - precision: 0.8240 - recall: 0.7823\n",
      "Epoch 37/100\n",
      "162/162 [==============================] - 0s 2ms/step - loss: 0.4986 - accuracy: 0.7503 - precision: 0.8236 - recall: 0.7716\n",
      "Epoch 38/100\n",
      "162/162 [==============================] - 0s 2ms/step - loss: 0.4927 - accuracy: 0.7540 - precision: 0.8298 - recall: 0.7701\n",
      "Epoch 39/100\n",
      "162/162 [==============================] - 0s 2ms/step - loss: 0.5047 - accuracy: 0.7507 - precision: 0.8102 - recall: 0.7927\n",
      "Epoch 40/100\n",
      "162/162 [==============================] - 0s 2ms/step - loss: 0.5008 - accuracy: 0.7470 - precision: 0.7929 - recall: 0.8137\n",
      "Epoch 41/100\n",
      "162/162 [==============================] - 0s 2ms/step - loss: 0.4806 - accuracy: 0.7627 - precision: 0.8270 - recall: 0.7915\n",
      "Epoch 42/100\n",
      "162/162 [==============================] - 0s 2ms/step - loss: 0.4753 - accuracy: 0.7662 - precision: 0.8414 - recall: 0.7780\n",
      "Epoch 43/100\n",
      "162/162 [==============================] - 0s 2ms/step - loss: 0.4898 - accuracy: 0.7621 - precision: 0.8403 - recall: 0.7716\n",
      "Epoch 44/100\n",
      "162/162 [==============================] - 0s 2ms/step - loss: 0.4978 - accuracy: 0.7646 - precision: 0.8305 - recall: 0.7902\n",
      "Epoch 45/100\n",
      "162/162 [==============================] - 0s 2ms/step - loss: 0.5016 - accuracy: 0.7551 - precision: 0.8193 - recall: 0.7878\n",
      "Epoch 46/100\n",
      "162/162 [==============================] - 0s 2ms/step - loss: 0.4864 - accuracy: 0.7617 - precision: 0.8155 - recall: 0.8070\n",
      "Epoch 47/100\n",
      "162/162 [==============================] - 0s 2ms/step - loss: 0.4889 - accuracy: 0.7590 - precision: 0.8243 - recall: 0.7881\n",
      "Epoch 48/100\n",
      "162/162 [==============================] - 0s 2ms/step - loss: 0.4857 - accuracy: 0.7629 - precision: 0.8350 - recall: 0.7805\n",
      "Epoch 49/100\n",
      "162/162 [==============================] - 0s 2ms/step - loss: 0.4885 - accuracy: 0.7594 - precision: 0.8398 - recall: 0.7671\n",
      "Epoch 50/100\n",
      "162/162 [==============================] - 0s 2ms/step - loss: 0.5132 - accuracy: 0.7505 - precision: 0.7746 - recall: 0.8558\n",
      "Epoch 51/100\n",
      "162/162 [==============================] - 0s 2ms/step - loss: 0.4822 - accuracy: 0.7685 - precision: 0.8438 - recall: 0.7793\n",
      "Epoch 52/100\n",
      "162/162 [==============================] - 0s 2ms/step - loss: 0.4917 - accuracy: 0.7663 - precision: 0.8421 - recall: 0.7774\n",
      "Epoch 53/100\n",
      "162/162 [==============================] - 0s 2ms/step - loss: 0.4829 - accuracy: 0.7685 - precision: 0.8190 - recall: 0.8152\n",
      "Epoch 54/100\n",
      "162/162 [==============================] - 0s 2ms/step - loss: 0.4782 - accuracy: 0.7710 - precision: 0.8235 - recall: 0.8134\n",
      "Epoch 55/100\n",
      "162/162 [==============================] - 0s 2ms/step - loss: 0.5041 - accuracy: 0.7484 - precision: 0.8508 - recall: 0.7317\n",
      "Epoch 56/100\n",
      "162/162 [==============================] - 0s 2ms/step - loss: 0.5115 - accuracy: 0.7431 - precision: 0.8441 - recall: 0.7299\n",
      "Epoch 57/100\n",
      "162/162 [==============================] - 0s 2ms/step - loss: 0.5228 - accuracy: 0.7226 - precision: 0.8101 - recall: 0.7351\n",
      "Epoch 58/100\n",
      "162/162 [==============================] - 0s 2ms/step - loss: 0.5104 - accuracy: 0.7489 - precision: 0.8207 - recall: 0.7732\n",
      "Epoch 59/100\n",
      "162/162 [==============================] - 0s 2ms/step - loss: 0.5147 - accuracy: 0.7530 - precision: 0.7777 - recall: 0.8552\n",
      "Epoch 60/100\n",
      "162/162 [==============================] - 0s 2ms/step - loss: 0.5428 - accuracy: 0.7298 - precision: 0.7431 - recall: 0.8774\n",
      "Epoch 61/100\n",
      "162/162 [==============================] - 0s 2ms/step - loss: 0.5206 - accuracy: 0.7410 - precision: 0.7829 - recall: 0.8189\n",
      "Epoch 62/100\n",
      "162/162 [==============================] - 0s 2ms/step - loss: 0.5164 - accuracy: 0.7406 - precision: 0.7883 - recall: 0.8082\n",
      "Epoch 63/100\n",
      "162/162 [==============================] - 0s 2ms/step - loss: 0.5109 - accuracy: 0.7352 - precision: 0.7565 - recall: 0.8591\n",
      "Epoch 64/100\n",
      "162/162 [==============================] - 0s 2ms/step - loss: 0.5033 - accuracy: 0.7437 - precision: 0.7815 - recall: 0.8274\n",
      "Epoch 65/100\n",
      "162/162 [==============================] - 0s 2ms/step - loss: 0.4985 - accuracy: 0.7594 - precision: 0.8026 - recall: 0.8232\n",
      "Epoch 66/100\n",
      "162/162 [==============================] - 0s 2ms/step - loss: 0.5053 - accuracy: 0.7538 - precision: 0.7921 - recall: 0.8296\n",
      "Epoch 67/100\n",
      "162/162 [==============================] - 0s 2ms/step - loss: 0.4988 - accuracy: 0.7555 - precision: 0.7932 - recall: 0.8314\n",
      "Epoch 68/100\n",
      "162/162 [==============================] - 0s 2ms/step - loss: 0.5060 - accuracy: 0.7412 - precision: 0.7800 - recall: 0.8247\n",
      "Epoch 69/100\n",
      "162/162 [==============================] - 0s 2ms/step - loss: 0.5158 - accuracy: 0.7178 - precision: 0.7465 - recall: 0.8405\n",
      "Epoch 70/100\n",
      "162/162 [==============================] - 0s 2ms/step - loss: 0.5141 - accuracy: 0.7199 - precision: 0.7672 - recall: 0.8018\n",
      "Epoch 71/100\n",
      "162/162 [==============================] - 0s 2ms/step - loss: 0.5017 - accuracy: 0.7497 - precision: 0.8295 - recall: 0.7622\n",
      "Epoch 72/100\n",
      "162/162 [==============================] - 0s 2ms/step - loss: 0.4831 - accuracy: 0.7559 - precision: 0.8330 - recall: 0.7695\n",
      "Epoch 73/100\n",
      "162/162 [==============================] - 0s 2ms/step - loss: 0.4799 - accuracy: 0.7650 - precision: 0.8281 - recall: 0.7945\n",
      "Epoch 74/100\n",
      "162/162 [==============================] - 0s 2ms/step - loss: 0.4733 - accuracy: 0.7631 - precision: 0.8379 - recall: 0.7768\n",
      "Epoch 75/100\n",
      "162/162 [==============================] - 0s 2ms/step - loss: 0.5006 - accuracy: 0.7362 - precision: 0.8071 - recall: 0.7677\n",
      "Epoch 76/100\n",
      "162/162 [==============================] - 0s 2ms/step - loss: 0.4918 - accuracy: 0.7468 - precision: 0.8028 - recall: 0.7966\n",
      "Epoch 77/100\n",
      "162/162 [==============================] - 0s 2ms/step - loss: 0.4796 - accuracy: 0.7536 - precision: 0.8690 - recall: 0.7201\n",
      "Epoch 78/100\n",
      "162/162 [==============================] - 0s 2ms/step - loss: 0.4783 - accuracy: 0.7650 - precision: 0.8562 - recall: 0.7567\n",
      "Epoch 79/100\n",
      "162/162 [==============================] - 0s 2ms/step - loss: 0.4672 - accuracy: 0.7665 - precision: 0.8388 - recall: 0.7823\n",
      "Epoch 80/100\n",
      "162/162 [==============================] - 0s 2ms/step - loss: 0.4678 - accuracy: 0.7723 - precision: 0.8600 - recall: 0.7659\n",
      "Epoch 81/100\n",
      "162/162 [==============================] - 0s 2ms/step - loss: 0.4694 - accuracy: 0.7778 - precision: 0.8506 - recall: 0.7881\n",
      "Epoch 82/100\n",
      "162/162 [==============================] - 0s 2ms/step - loss: 0.4714 - accuracy: 0.7706 - precision: 0.8377 - recall: 0.7918\n",
      "Epoch 83/100\n",
      "162/162 [==============================] - 0s 2ms/step - loss: 0.4841 - accuracy: 0.7588 - precision: 0.8363 - recall: 0.7707\n",
      "Epoch 84/100\n",
      "162/162 [==============================] - 0s 2ms/step - loss: 0.4959 - accuracy: 0.7524 - precision: 0.7882 - recall: 0.8338\n",
      "Epoch 85/100\n",
      "162/162 [==============================] - 0s 2ms/step - loss: 0.5328 - accuracy: 0.7404 - precision: 0.7627 - recall: 0.8576\n",
      "Epoch 86/100\n",
      "162/162 [==============================] - 0s 2ms/step - loss: 0.5929 - accuracy: 0.7211 - precision: 0.7156 - recall: 0.9299\n",
      "Epoch 87/100\n",
      "162/162 [==============================] - 0s 2ms/step - loss: 0.5996 - accuracy: 0.7130 - precision: 0.7072 - recall: 0.9345\n",
      "Epoch 88/100\n",
      "162/162 [==============================] - 0s 2ms/step - loss: 0.6164 - accuracy: 0.6952 - precision: 0.6972 - recall: 0.9183\n",
      "Epoch 89/100\n",
      "162/162 [==============================] - 0s 2ms/step - loss: 0.6049 - accuracy: 0.7002 - precision: 0.7319 - recall: 0.8323\n",
      "Epoch 90/100\n",
      "162/162 [==============================] - 0s 2ms/step - loss: 0.6045 - accuracy: 0.7072 - precision: 0.7160 - recall: 0.8924\n",
      "Epoch 91/100\n",
      "162/162 [==============================] - 0s 2ms/step - loss: 0.6073 - accuracy: 0.7048 - precision: 0.7160 - recall: 0.8863\n",
      "Epoch 92/100\n",
      "162/162 [==============================] - 0s 2ms/step - loss: 0.6038 - accuracy: 0.7068 - precision: 0.7240 - recall: 0.8692\n",
      "Epoch 93/100\n",
      "162/162 [==============================] - 0s 2ms/step - loss: 0.6025 - accuracy: 0.7064 - precision: 0.7310 - recall: 0.8500\n",
      "Epoch 94/100\n",
      "162/162 [==============================] - 0s 2ms/step - loss: 0.6025 - accuracy: 0.7064 - precision: 0.7310 - recall: 0.8500\n",
      "Epoch 95/100\n",
      "162/162 [==============================] - 0s 2ms/step - loss: 0.6028 - accuracy: 0.7064 - precision: 0.7310 - recall: 0.8500\n",
      "Epoch 96/100\n",
      "162/162 [==============================] - 0s 2ms/step - loss: 0.6028 - accuracy: 0.7064 - precision: 0.7310 - recall: 0.8500\n",
      "Epoch 97/100\n",
      "162/162 [==============================] - 0s 2ms/step - loss: 0.6034 - accuracy: 0.7064 - precision: 0.7310 - recall: 0.8500\n",
      "Epoch 98/100\n",
      "162/162 [==============================] - 0s 2ms/step - loss: 0.6029 - accuracy: 0.7064 - precision: 0.7310 - recall: 0.8500\n",
      "Epoch 99/100\n",
      "162/162 [==============================] - 0s 2ms/step - loss: 0.6036 - accuracy: 0.7064 - precision: 0.7310 - recall: 0.8500\n",
      "Epoch 100/100\n",
      "162/162 [==============================] - 0s 2ms/step - loss: 0.6028 - accuracy: 0.7064 - precision: 0.7310 - recall: 0.8500\n"
     ]
    }
   ],
   "source": [
    "history = model.fit(X_train_scaled, y_train, epochs=100)"
   ]
  },
  {
   "cell_type": "markdown",
   "metadata": {},
   "source": [
    "### Visualizing model performance"
   ]
  },
  {
   "cell_type": "code",
   "execution_count": 25,
   "metadata": {},
   "outputs": [],
   "source": [
    "import matplotlib.pyplot as plt\n",
    "from matplotlib import rcParams\n",
    "\n",
    "rcParams['figure.figsize'] = (18,8)\n",
    "rcParams['axes.spines.top'] = False\n",
    "rcParams['axes.spines.right'] = False"
   ]
  },
  {
   "cell_type": "code",
   "execution_count": 26,
   "metadata": {},
   "outputs": [
    {
     "data": {
      "image/png": "[encoded data removed]",
      "text/plain": [
       "<Figure size 1296x576 with 1 Axes>"
      ]
     },
     "metadata": {
      "needs_background": "light"
     },
     "output_type": "display_data"
    }
   ],
   "source": [
    "plt.plot(np.arange(1, 101), history.history['loss'], label='Loss')\n",
    "plt.plot(np.arange(1, 101), history.history['accuracy'], label='Accuracy')\n",
    "plt.plot(np.arange(1, 101), history.history['precision'], label='Precision')\n",
    "plt.plot(np.arange(1, 101), history.history['recall'], label='Recall')\n",
    "plt.title('Evaluation Metrics', size=20)\n",
    "plt.xlabel('Epoch', size=14)\n",
    "plt.legend();"
   ]
  },
  {
   "cell_type": "markdown",
   "metadata": {},
   "source": [
    "### Prediction"
   ]
  },
  {
   "cell_type": "code",
   "execution_count": 27,
   "metadata": {},
   "outputs": [],
   "source": [
    "predictions = model.predict(X_test_scaled)"
   ]
  },
  {
   "cell_type": "code",
   "execution_count": 28,
   "metadata": {},
   "outputs": [
    {
     "data": {
      "text/plain": [
       "array([[0.71682346],\n",
       "       [0.71682346],\n",
       "       [0.71682346],\n",
       "       ...,\n",
       "       [0.71682346],\n",
       "       [0.71682346],\n",
       "       [0.36906493]], dtype=float32)"
      ]
     },
     "execution_count": 28,
     "metadata": {},
     "output_type": "execute_result"
    }
   ],
   "source": [
    "predictions"
   ]
  },
  {
   "cell_type": "code",
   "execution_count": 29,
   "metadata": {},
   "outputs": [],
   "source": [
    "predictions_classes = [1 if prob > 0.5 else 0 for prob in np.ravel(predictions)]"
   ]
  },
  {
   "cell_type": "code",
   "execution_count": 31,
   "metadata": {},
   "outputs": [
    {
     "data": {
      "text/plain": [
       "[1, 1, 1, 1, 1, 1, 1, 1, 1, 1, 1, 1, 0, 1, 1, 1, 1, 1, 1, 1]"
      ]
     },
     "execution_count": 31,
     "metadata": {},
     "output_type": "execute_result"
    }
   ],
   "source": [
    "predictions_classes[:20]"
   ]
  },
  {
   "cell_type": "code",
   "execution_count": 32,
   "metadata": {},
   "outputs": [
    {
     "name": "stdout",
     "output_type": "stream",
     "text": [
      "[[205 277]\n",
      " [128 683]]\n"
     ]
    }
   ],
   "source": [
    "from sklearn.metrics import confusion_matrix\n",
    "\n",
    "print(confusion_matrix(y_test, predictions_classes))"
   ]
  },
  {
   "cell_type": "code",
   "execution_count": 33,
   "metadata": {},
   "outputs": [
    {
     "name": "stdout",
     "output_type": "stream",
     "text": [
      "Accuracy: 0.69\n",
      "Precision: 0.71\n",
      "Recall: 0.84\n"
     ]
    }
   ],
   "source": [
    "from sklearn.metrics import accuracy_score, precision_score, recall_score\n",
    "\n",
    "print(f'Accuracy: {accuracy_score(y_test, predictions_classes):.2f}')\n",
    "print(f'Precision: {precision_score(y_test, predictions_classes):.2f}')\n",
    "print(f'Recall: {recall_score(y_test, predictions_classes):.2f}')"
   ]
  },
  {
   "cell_type": "code",
   "execution_count": null,
   "metadata": {},
   "outputs": [],
   "source": []
  }
 ],
 "metadata": {
  "interpreter": {
   "hash": "11fb9a4da6a6d13bd98d554e28be5c3e41db14acffc8a4009c121f7e5913a2cc"
  },
  "kernelspec": {
   "display_name": "Python 3.8.5 64-bit ('base': conda)",
   "language": "python",
   "name": "python3"
  },
  "language_info": {
   "codemirror_mode": {
    "name": "ipython",
    "version": 3
   },
   "file_extension": ".py",
   "mimetype": "text/x-python",
   "name": "python",
   "nbconvert_exporter": "python",
   "pygments_lexer": "ipython3",
   "version": "3.8.5"
  },
  "orig_nbformat": 4
 },
 "nbformat": 4,
 "nbformat_minor": 2
}
